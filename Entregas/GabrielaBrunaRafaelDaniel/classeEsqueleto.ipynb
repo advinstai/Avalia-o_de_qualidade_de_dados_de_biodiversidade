{
 "cells": [
  {
   "cell_type": "code",
   "execution_count": 14,
   "metadata": {},
   "outputs": [
    {
     "data": {
      "application/vnd.jupyter.widget-view+json": {
       "model_id": "dbc8e33a99b24f5eb400b0f0d5842adc",
       "version_major": 2,
       "version_minor": 0
      },
      "text/plain": [
       "Map(basemap={'url': 'https://{s}.tile.openstreetmap.org/{z}/{x}/{y}.png', 'max_zoom': 19, 'attribution': 'Map …"
      ]
     },
     "metadata": {},
     "output_type": "display_data"
    }
   ],
   "source": [
    "from opencage.geocoder import OpenCageGeocode\n",
    "from pprint import pprint\n",
    "from ipywidgets import HTML\n",
    "from ipyleaflet import Popup, Map, Marker, LayersControl\n",
    "from IPython import display\n",
    "        \n",
    "class desafioBiodiversidade():\n",
    "    #1\n",
    "    #Para cada coluna identique a quantidade de linhas com dados faltantes (em alguns casos, \n",
    "    #o dado faltante é uma string vazia, em outros casos é uma string contendo algum valor do \n",
    "    #tipo: \"sem informação\"). \n",
    "    #Faça um método que retorna a média de dados faltantes por coluna\n",
    "    #def retornaMediaDadosFaltantesPorColuna():\n",
    "        \n",
    "        \n",
    "    #2\n",
    "    #Para cada item identifique até qual nível taxônomico a ocorrência foi identificada.\n",
    "    #Seis campos definem a espécie: Filo;Classe;Ordem;Familia;Genero;Especie do mais genérico \n",
    "    #(Filo) para o mais específico (Especie), é comum que em alguns casos, o preenchimento pare em \n",
    "    #família ou genêro por exemplo.\n",
    "    #def retornaNivelTaxonomicoCadaOcorrencia():\n",
    "        \n",
    "        \n",
    "    #3\n",
    "    #Monte filtros de ocorrências por estados, nome de espécie (nome exato ou parte do nome) e \n",
    "    #categoria de ameaça, e outros filtros que julgar relevante.\n",
    "    #ef retonaSeOcorrenciaExiste():\n",
    "        \n",
    "        \n",
    "    #4\n",
    "    #Crie uma funcionalidade para avaliar se a informação de longitude e latitude \n",
    "    #corresponde a informação presente na localização, para isso você pode utilizar uma \n",
    "    #biblioteca de consulta reversa de lat/log como por exemplo o \n",
    "    #https://opencagedata.com/tutorials/geocode-in-python\n",
    "    def metodoPlotMap(self, vectorInformacoes):\n",
    "        key = '0573d875005f45bebe452ff81c26b684'\n",
    "        geocoder = OpenCageGeocode(key)\n",
    "\n",
    "        i = 0\n",
    "        center = (0.0, 0.0)\n",
    "        itemMapa = Map(center = center, zoom = 3, close_popup_on_click = False)\n",
    "        itemMapa.add_control(LayersControl())\n",
    "        for item in vectorInformacoes:\n",
    "            #if i <= 15:\n",
    "                center = (item[0], item[1])\n",
    "                marker = Marker(location = center, draggable = False)\n",
    "                teste = HTML()\n",
    "                teste.value = \"<b>\" + item[2] + \"</b>\"\n",
    "                popup = Popup(\n",
    "                    location = center,\n",
    "                    child = teste,\n",
    "                    close_button = True,\n",
    "                    auto_close = False,\n",
    "                    close_on_escape_key = False\n",
    "                )\n",
    "                itemMapa.add_layer(marker)\n",
    "                itemMapa.add_layer(popup)\n",
    "            #i+=1\n",
    "        return itemMapa\n",
    "        \n",
    "\n",
    "biodiversidade = desafioBiodiversidade()\n",
    "\n",
    "#DADOS ESTATICOS\n",
    "vetorInformacoes = []\n",
    "vetorInformacoes.append([-3.8489999999999998, -32.42, 'Fernando de Noronha'])\n",
    "vetorInformacoes.append([-20.5142, -29.3064, 'Vitoria'])\n",
    "vetorInformacoes.append([-18.1452777, -18.115, 'São Gonçalo do Rio Preto'])\n",
    "#DADOS ESTATICOS\n",
    "\n",
    "#Recebe o retorno do metodo\n",
    "map = biodiversidade.metodoPlotMap(vetorInformacoes)\n",
    "#Faz o plot do mapa\n",
    "map"
   ]
  }
 ],
 "metadata": {
  "kernelspec": {
   "display_name": "Python [conda env:ambDanielFiep] *",
   "language": "python",
   "name": "conda-env-ambDanielFiep-py"
  },
  "language_info": {
   "codemirror_mode": {
    "name": "ipython",
    "version": 3
   },
   "file_extension": ".py",
   "mimetype": "text/x-python",
   "name": "python",
   "nbconvert_exporter": "python",
   "pygments_lexer": "ipython3",
   "version": "3.7.4"
  }
 },
 "nbformat": 4,
 "nbformat_minor": 2
}
