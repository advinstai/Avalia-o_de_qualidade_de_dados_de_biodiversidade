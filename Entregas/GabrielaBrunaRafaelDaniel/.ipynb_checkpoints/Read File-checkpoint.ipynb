{
 "cells": [
  {
   "cell_type": "code",
   "execution_count": null,
   "metadata": {},
   "outputs": [],
   "source": [
    "class desafioBiodiversidade():\n",
    "\n",
    "    \n",
    "    #1\n",
    "    #Para cada coluna identique a quantidade de linhas com dados faltantes (em alguns casos, \n",
    "    #o dado faltante é uma string vazia, em outros casos é uma string contendo algum valor do \n",
    "    #tipo: \"sem informação\"). \n",
    "    #Faça um método que retorna a média de dados faltantes por coluna\n",
    "    def retornaMediaDadosFaltantesPorColuna():\n",
    "        \n",
    "    \n",
    "    #2\n",
    "    #Para cada item identifique até qual nível taxônomico a ocorrência foi identificada.\n",
    "    #Seis campos definem a espécie: Filo;Classe;Ordem;Familia;Genero;Especie do mais genérico \n",
    "    #(Filo) para o mais específico (Especie), é comum que em alguns casos, o preenchimento pare em \n",
    "    #família ou genêro por exemplo.\n",
    "    def retornaNivelTaxonomicoCadaOcorrencia():\n",
    "    \n",
    "\n",
    "    #3\n",
    "    #Monte filtros de ocorrências por estados, nome de espécie (nome exato ou parte do nome) e \n",
    "    #categoria de ameaça, e outros filtros que julgar relevante.\n",
    "    def retonaSeOcorrenciaExiste():\n",
    "        \n",
    "        \n",
    "    #4\n",
    "    #Crie uma funcionalidade para avaliar se a informação de longitude e latitude \n",
    "    #corresponde a informação presente na localização, para isso você pode utilizar uma \n",
    "    #biblioteca de consulta reversa de lat/log como por exemplo o \n",
    "    #https://opencagedata.com/tutorials/geocode-in-python\n",
    "    def metodoPlotMap():\n",
    "        \n",
    "\n",
    "biodiversidade = desafioBiodiversidade()"
   ]
  }
 ],
 "metadata": {
  "kernelspec": {
   "display_name": "Python [conda env:amb_1]",
   "language": "python",
   "name": "conda-env-amb_1-py"
  },
  "language_info": {
   "codemirror_mode": {
    "name": "ipython",
    "version": 3
   },
   "file_extension": ".py",
   "mimetype": "text/x-python",
   "name": "python",
   "nbconvert_exporter": "python",
   "pygments_lexer": "ipython3",
   "version": "3.7.4"
  }
 },
 "nbformat": 4,
 "nbformat_minor": 2
}
