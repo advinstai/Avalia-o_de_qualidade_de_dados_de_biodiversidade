{
 "cells": [
  {
   "cell_type": "code",
   "execution_count": null,
   "metadata": {},
   "outputs": [],
   "source": [
    "print(\"Hello word - bruna\")  \n",
    "\n",
    "\n",
    "class CSVFile():\n",
    "    def _init__(self):\n",
    "        self.arquivo = None\n",
    "        self.data = list()\n",
    "        \n",
    "    def read_file(self,filePath):\n",
    "        try:\n",
    "            f = open(filePath,\"r\")\n",
    "            data = f.readlines()\n",
    "            self.data = list(map(lambda line: line.split(\";\"), data))\n",
    "            f.close()\n",
    "        except:\n",
    "            print(\"Error: cannot open file.\")\n",
    "            return None \n",
    "\n",
    "        \n",
    "        \n",
    "print(\"Teste Rafael\")        \n",
    "        \n",
    "        \n",
    "        \n",
    "\"\"\"\n",
    "filePath = input(\"File path: \")\n",
    "cfile = CSVFile()\n",
    "cfile.read_file(filePath)\n",
    "print(cfile.data)\n",
    "\"\"\"\n",
    "\n",
    "print(\"Hello World - Daniel\")"
   ]
  }
 ],
 "metadata": {
  "kernelspec": {
   "display_name": "Python 3",
   "language": "python",
   "name": "python3"
  },
  "language_info": {
   "codemirror_mode": {
    "name": "ipython",
    "version": 3
   },
   "file_extension": ".py",
   "mimetype": "text/x-python",
   "name": "python",
   "nbconvert_exporter": "python",
   "pygments_lexer": "ipython3",
   "version": "3.7.4"
  }
 },
 "nbformat": 4,
 "nbformat_minor": 2
}
