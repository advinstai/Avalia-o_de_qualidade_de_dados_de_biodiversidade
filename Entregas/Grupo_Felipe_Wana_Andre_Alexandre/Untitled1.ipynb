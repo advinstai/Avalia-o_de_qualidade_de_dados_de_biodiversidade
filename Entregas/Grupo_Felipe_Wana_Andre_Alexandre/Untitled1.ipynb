{
 "cells": [
  {
   "cell_type": "code",
   "execution_count": 9,
   "metadata": {},
   "outputs": [
    {
     "name": "stdout",
     "output_type": "stream",
     "text": [
      "Could not read the file portalbio_export_17-10-2019-13-06-22.csv\n",
      "I/O error(2): File b'portalbio_export_17-10-2019-13-06-22.csv' does not exist\n"
     ]
    },
    {
     "ename": "SystemExit",
     "evalue": "",
     "output_type": "error",
     "traceback": [
      "An exception has occurred, use %tb to see the full traceback.\n",
      "\u001b[0;31mSystemExit\u001b[0m\n"
     ]
    }
   ],
   "source": [
    "from wana_a3 import wana\n",
    "from oob2_1 import FindNan\n",
    "from oob2_2 import AvaliaTax\n",
    "\n",
    "class testes:\n",
    "    \"\"\" \n",
    "    classe de testes \n",
    "    \n",
    "    \"\"\"\n",
    "    \n",
    "    pathBase = \"\"\n",
    "    \n",
    "    arquivos = [\n",
    "     \"portalbio_export_04-11-2019-20-52-40.csv\" ,\n",
    "     \"portalbio_export_16-10-2019-14-39-54.csv\" ,\n",
    "     \"portalbio_export_17-10-2019-11-22-06.csv\" ]\n",
    "    \n",
    "    log = \"logTeste.txt\"\n",
    "    \n",
    "    \n",
    "    @staticmethod\n",
    "    def teste1(default=1, log=None):\n",
    "        \"\"\"\n",
    "        primeira fase de teste Carregamento de arquivos csv e contagens\n",
    "        \n",
    "            * Itens 1 e 2\n",
    "    \n",
    "        \n",
    "        :param default: padrão de testes, por enquanto só tem 1\n",
    "        :param log: ative para não printar tudo na tela\n",
    "        :return: 1 se sucesso, None se erro ou -1 caso haja problemas nas classes importadas\n",
    "        \"\"\"\n",
    "        \n",
    "        try: #lista das classes usadas\n",
    "            assert wana\n",
    "            assert FindNan\n",
    "            assert AvaliaTax \n",
    "            # se algumas delas nao existirem no contexto aparece uma exepction\n",
    "        except NameError:\n",
    "            print(\"classes nao encontradas ou com nomes errados\")\n",
    "            return -1\n",
    "            \n",
    "        if default!=1:\n",
    "            raise NotImplementedError(\"Fazer, implementar outros testes ou usar teste1(1)\")\n",
    "        \n",
    "        for arquivo in testes.arquivos:\n",
    "            \n",
    "            mydata = MyData(pathBase+arquivo)\n",
    "            \n",
    "            res1 = mydata.getEmpty()\n",
    "            \n",
    "            if not log: print(res1)\n",
    "            \n",
    "            dadosN = AvaliaTax.pandasAdapter(mydata.df)\n",
    "            \n",
    "            res2 = AvaliaTax.verificaTaxonomiaAsNumpy(dadosN)\n",
    "            \n",
    "            if not log: print(res2)\n",
    "            \n",
    "        \n",
    "        return 1"
   ]
  },
  {
   "cell_type": "code",
   "execution_count": 6,
   "metadata": {},
   "outputs": [
    {
     "name": "stdout",
     "output_type": "stream",
     "text": [
      "classes nao encontradas ou com nomes errados\n"
     ]
    },
    {
     "data": {
      "text/plain": [
       "-1"
      ]
     },
     "execution_count": 6,
     "metadata": {},
     "output_type": "execute_result"
    }
   ],
   "source": [
    "testes.teste1()"
   ]
  },
  {
   "cell_type": "code",
   "execution_count": null,
   "metadata": {},
   "outputs": [],
   "source": []
  }
 ],
 "metadata": {
  "kernelspec": {
   "display_name": "Python [conda env:python_practice] *",
   "language": "python",
   "name": "conda-env-python_practice-py"
  },
  "language_info": {
   "codemirror_mode": {
    "name": "ipython",
    "version": 3
   },
   "file_extension": ".py",
   "mimetype": "text/x-python",
   "name": "python",
   "nbconvert_exporter": "python",
   "pygments_lexer": "ipython3",
   "version": "3.7.4"
  }
 },
 "nbformat": 4,
 "nbformat_minor": 2
}
