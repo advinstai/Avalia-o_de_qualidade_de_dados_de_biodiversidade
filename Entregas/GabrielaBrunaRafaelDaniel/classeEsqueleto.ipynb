{
 "cells": [
  {
   "cell_type": "code",
   "execution_count": 10,
   "metadata": {},
   "outputs": [],
   "source": [
    "import numpy as np\n",
    "import pandas as pd \n",
    "from opencage.geocoder import OpenCageGeocode\n",
    "from pprint import pprint\n",
    "from ipywidgets import HTML\n",
    "from ipyleaflet import Popup, Map, Marker, LayersControl\n",
    "from IPython import display\n",
    "\n",
    "class desafioBiodiversidade():\n",
    "    def __init__(self,filePath):\n",
    "        try:\n",
    "            f = open(filePath,\"r\")\n",
    "            self.originalData = f.readlines()\n",
    "            self.data = [l.rstrip().split(\";\") for l in self.originalData]\n",
    "            f.close()\n",
    "\n",
    "            self.AmeacaList = []\n",
    "            self.plotMap = []\n",
    "            self.dataAux = []\n",
    "            self.dataT = []            \n",
    "            \n",
    "        except:\n",
    "            print(\"Error: cannot open file.\")\n",
    "            data = None  \n",
    "    \n",
    "    #1\n",
    "    #Faça um método que retorna a média de dados faltantes por coluna\n",
    "    def retornaMediaDadosFaltantesPorColuna(self):\n",
    "        data = self.data\n",
    "        nlines = len(data)-1\n",
    "        \n",
    "        # lista de tamanho igual ao numero de colunas\n",
    "        nblank = [0]*len(data[0])\n",
    "        \n",
    "        # cada posicao da lista armazena o contador de linhas faltantes da coluna correspondente\n",
    "        for line in data:\n",
    "            for ind,column in enumerate(line):\n",
    "                if column == \"Sem Informações\" or column == \"\":\n",
    "                    nblank[ind]+=1\n",
    "        \n",
    "        # calcula a media dos dados faltantes de cada coluna\n",
    "        nblank = [np.round((x/nlines)*100,2) for x in nblank]\n",
    "        \n",
    "        # passa a lista para um dicionario\n",
    "        # para impressao utilizando DataFrame do Pandas\n",
    "        dict = {'Titulo': data[0], 'Value': nblank}\n",
    "        df = pd.DataFrame(dict)\n",
    "        print(df.to_string(index=False))\n",
    "        \n",
    "        \n",
    "    #2\n",
    "    #Para cada item identifique até qual nível taxônomico a ocorrência foi identificada.\n",
    "    def retornaNivelTaxonomicoCadaOcorrencia(self):\n",
    "        lista = self.data\n",
    "\n",
    "        filo = []\n",
    "        for i in range(len(lista[0])):\n",
    "            \n",
    "            if lista[0][i] == 'Especie':\n",
    "              \n",
    "                for k in range(1,len(lista)):\n",
    "                    \n",
    "                    if lista[k][i] != 'Sem Informações':\n",
    "                        filo.append('{} - Especie'.format(k))\n",
    "                    \n",
    "                    elif lista[k][i-1] != 'Sem Informações':\n",
    "                        filo.append('{} - Genero'.format(k))\n",
    "                        \n",
    "                    elif lista[k][i-2] != 'Sem Informações':\n",
    "                        filo.append('{} - Familia'.format(k))\n",
    "                        \n",
    "                    elif lista[k][i-3] != 'Sem Informações':\n",
    "                        filo.append('{} - Ordem'.format(k))\n",
    "                    \n",
    "                    elif lista[k][i-4] != 'Sem Informações':\n",
    "                        filo.append('{} - Classe'.format(k))\n",
    "                        \n",
    "                    elif lista[k][i-5] != 'Sem Informações':\n",
    "                        filo.append('{} - Filo'.format(k))\n",
    "                        \n",
    "                    else:\n",
    "                        filo.append('{} - Reino'.format(k))\n",
    "     \n",
    "        return filo  \n",
    "    \n",
    "    #3\n",
    "    #Monte filtros de ocorrências por estados, nome de espécie (nome exato ou parte do nome) e \n",
    "    #categoria de ameaça, e outros filtros que julgar relevante.\n",
    "    def retonaSeOcorrenciaExiste(self, filterAmeaca):\n",
    "\n",
    "        # Lê cada coluna por vez        \n",
    "        for j in range(len(self.data[0])):        \n",
    "            for i in range(len(self.data)-1):\n",
    "                self.dataAux.append(self.data[i][j])\n",
    "                # Cria uma nova \"matriz\" transposta com os dados\n",
    "            self.dataT.append(self.dataAux)\n",
    "            self.dataAux = []\n",
    "        \n",
    "        \n",
    "        ##### Filtros de busca\n",
    "        # Filtro de ameaça\n",
    "        for i in range(len(self.dataT)):\n",
    "            if self.dataT[i][0] == \"Estado de conservacao\":\n",
    "                for j in range(len(self.dataT[i])):\n",
    "                    if self.dataT[i][j] == filterAmeaca :\n",
    "                        self.plotMap.append([self.dataT[i+7][j],self.dataT[i+8][j], self.dataT[i+5][j]])\n",
    "                        self.AmeacaList.append([\"Amostra {}: {}: \".format(j, self.dataT[i-12][j]), filterAmeaca])\n",
    "                    \n",
    "        return self.AmeacaList\n",
    "        \n",
    "    #4\n",
    "    #Crie uma funcionalidade para avaliar se a informação de longitude e latitude \n",
    "    #corresponde a informação presente na localização\n",
    "    def metodoPlotMap(self):\n",
    "        vectorInformacoes = self.plotMap\n",
    "        key = '0573d875005f45bebe452ff81c26b684'\n",
    "        geocoder = OpenCageGeocode(key)\n",
    "\n",
    "        i = 0\n",
    "        center = (0.0, 0.0)\n",
    "        itemMapa = Map(center = center, zoom = 3, close_popup_on_click = False)\n",
    "        itemMapa.add_control(LayersControl())\n",
    "        for item in vectorInformacoes:\n",
    "            #if i <= 15:\n",
    "                center = (item[0], item[1])\n",
    "                marker = Marker(location = center, draggable = False)\n",
    "                teste = HTML()\n",
    "                teste.value = \"<b>\" + item[2] + \"</b>\"\n",
    "                popup = Popup(\n",
    "                    location = center,\n",
    "                    child = teste,\n",
    "                    close_button = True,\n",
    "                    auto_close = False,\n",
    "                    close_on_escape_key = False\n",
    "                )\n",
    "                itemMapa.add_layer(marker)\n",
    "                itemMapa.add_layer(popup)\n",
    "            #i+=1\n",
    "        return itemMapa\n",
    "    \n",
    "filePath1 = \"portalbio_export_16-10-2019-14-39-54.csv\"\n",
    "filePath2 = \"portalbio_export_17-10-2019-13-06-22.csv\"\n",
    "filePath3 = \"portalbio_export_17-10-2019-13-15-00.csv\"\n",
    "\n",
    "filePath7Daniel1 = \"07-PR-testeCsv.csv\"\n",
    "filePath7Daniel2 = \"07-SP-testeCsv.csv\""
   ]
  },
  {
   "cell_type": "code",
   "execution_count": 17,
   "metadata": {},
   "outputs": [],
   "source": [
    "#PARTE GABRIELA\n",
    "biodiversidade = desafioBiodiversidade(filePath7Daniel2)"
   ]
  },
  {
   "cell_type": "code",
   "execution_count": 18,
   "metadata": {},
   "outputs": [
    {
     "name": "stdout",
     "output_type": "stream",
     "text": [
      "                              Titulo   Value\n",
      "                 Nome da instituicao  100.00\n",
      "                Sigla da instituicao    0.00\n",
      "               Nome da base de dados    0.00\n",
      "              Sigla da base de dados    0.00\n",
      "           Responsavel pelo registro    0.00\n",
      "        Numero do registro no portal    0.00\n",
      " Numero do registro na base de dados    2.57\n",
      "                    Data do registro    0.00\n",
      "                      Data do evento    0.00\n",
      "                    Data de Carencia    0.00\n",
      "                     Nome cientifico    5.54\n",
      "                          Nome comum   64.59\n",
      "    Nome cientifico na base de dados    0.00\n",
      "                    Nivel taxonomico    5.54\n",
      "                Numero de individuos    0.00\n",
      "                               Reino  100.00\n",
      "                                Filo    5.54\n",
      "                              Classe    5.54\n",
      "                               Ordem    5.54\n",
      "                             Familia    6.08\n",
      "                              Genero    6.62\n",
      "                             Especie   14.05\n",
      "               Estado de conservacao    0.00\n",
      "                 Categoria de Ameaca   93.51\n",
      "                          Localidade    0.14\n",
      "                                Pais    2.57\n",
      "                    Estado/Provincia    0.00\n",
      "                           Municipio    0.14\n",
      "             Status de Sensibilidade    0.00\n",
      "                            Latitude    0.00\n",
      "                           Longitude    0.00\n",
      "    Outras informacoes da localidade    0.00\n",
      "                          Jurisdicao  100.00\n",
      "                 Destino do Material    2.57\n"
     ]
    }
   ],
   "source": [
    "biodiversidade.retornaMediaDadosFaltantesPorColuna()\n",
    "#PARTE GABRIELA"
   ]
  },
  {
   "cell_type": "code",
   "execution_count": 19,
   "metadata": {},
   "outputs": [
    {
     "name": "stdout",
     "output_type": "stream",
     "text": [
      "['1 - Genero', '2 - Especie', '3 - Especie', '4 - Especie', '5 - Especie', '6 - Especie', '7 - Especie', '8 - Especie', '9 - Familia', '10 - Especie', '11 - Especie', '12 - Reino', '13 - Especie', '14 - Especie', '15 - Especie', '16 - Especie', '17 - Especie', '18 - Especie', '19 - Especie', '20 - Especie', '21 - Especie', '22 - Especie', '23 - Especie', '24 - Especie', '25 - Especie', '26 - Especie', '27 - Especie', '28 - Especie', '29 - Especie', '30 - Especie', '31 - Especie', '32 - Especie', '33 - Especie', '34 - Especie', '35 - Especie', '36 - Especie', '37 - Especie', '38 - Especie', '39 - Especie', '40 - Especie', '41 - Especie', '42 - Especie', '43 - Especie', '44 - Especie', '45 - Especie', '46 - Especie', '47 - Ordem', '48 - Familia', '49 - Reino', '50 - Especie', '51 - Especie', '52 - Especie', '53 - Especie', '54 - Especie', '55 - Especie', '56 - Especie', '57 - Especie', '58 - Especie', '59 - Especie', '60 - Especie', '61 - Especie', '62 - Especie', '63 - Especie', '64 - Especie', '65 - Especie', '66 - Especie', '67 - Especie', '68 - Especie', '69 - Especie', '70 - Especie', '71 - Especie', '72 - Especie', '73 - Especie', '74 - Especie', '75 - Especie', '76 - Especie', '77 - Especie', '78 - Especie', '79 - Especie', '80 - Especie', '81 - Especie', '82 - Especie', '83 - Especie', '84 - Especie', '85 - Especie', '86 - Especie', '87 - Especie', '88 - Especie', '89 - Especie', '90 - Especie', '91 - Especie', '92 - Especie', '93 - Especie', '94 - Especie', '95 - Especie', '96 - Especie', '97 - Especie', '98 - Especie', '99 - Especie', '100 - Especie', '101 - Especie', '102 - Especie', '103 - Especie', '104 - Especie', '105 - Especie', '106 - Especie', '107 - Especie', '108 - Especie', '109 - Especie', '110 - Especie', '111 - Especie', '112 - Especie', '113 - Especie', '114 - Especie', '115 - Especie', '116 - Especie', '117 - Especie', '118 - Especie', '119 - Especie', '120 - Especie', '121 - Especie', '122 - Especie', '123 - Especie', '124 - Especie', '125 - Especie', '126 - Especie', '127 - Especie', '128 - Especie', '129 - Especie', '130 - Especie', '131 - Especie', '132 - Especie', '133 - Especie', '134 - Especie', '135 - Especie', '136 - Especie', '137 - Especie', '138 - Especie', '139 - Especie', '140 - Especie', '141 - Especie', '142 - Especie', '143 - Especie', '144 - Especie', '145 - Especie', '146 - Especie', '147 - Especie', '148 - Especie', '149 - Especie', '150 - Especie', '151 - Especie', '152 - Especie', '153 - Especie', '154 - Especie', '155 - Especie', '156 - Especie', '157 - Especie', '158 - Especie', '159 - Especie', '160 - Especie', '161 - Especie', '162 - Especie', '163 - Especie', '164 - Especie', '165 - Especie', '166 - Especie', '167 - Especie', '168 - Especie', '169 - Especie', '170 - Especie', '171 - Especie', '172 - Especie', '173 - Especie', '174 - Especie', '175 - Especie', '176 - Especie', '177 - Especie', '178 - Especie', '179 - Especie', '180 - Especie', '181 - Especie', '182 - Especie', '183 - Especie', '184 - Especie', '185 - Especie', '186 - Especie', '187 - Especie', '188 - Especie', '189 - Especie', '190 - Especie', '191 - Especie', '192 - Especie', '193 - Especie', '194 - Especie', '195 - Especie', '196 - Especie', '197 - Especie', '198 - Especie', '199 - Especie', '200 - Especie', '201 - Especie', '202 - Especie', '203 - Especie', '204 - Especie', '205 - Especie', '206 - Especie', '207 - Especie', '208 - Especie', '209 - Especie', '210 - Especie', '211 - Especie', '212 - Especie', '213 - Especie', '214 - Reino', '215 - Especie', '216 - Especie', '217 - Especie', '218 - Especie', '219 - Especie', '220 - Especie', '221 - Especie', '222 - Especie', '223 - Especie', '224 - Especie', '225 - Reino', '226 - Reino', '227 - Especie', '228 - Especie', '229 - Especie', '230 - Especie', '231 - Especie', '232 - Especie', '233 - Especie', '234 - Especie', '235 - Especie', '236 - Especie', '237 - Especie', '238 - Especie', '239 - Especie', '240 - Especie', '241 - Especie', '242 - Especie', '243 - Especie', '244 - Especie', '245 - Especie', '246 - Especie', '247 - Especie', '248 - Especie', '249 - Especie', '250 - Reino', '251 - Especie', '252 - Especie', '253 - Especie', '254 - Especie', '255 - Especie', '256 - Especie', '257 - Especie', '258 - Especie', '259 - Especie', '260 - Especie', '261 - Especie', '262 - Especie', '263 - Especie', '264 - Especie', '265 - Especie', '266 - Especie', '267 - Especie', '268 - Especie', '269 - Especie', '270 - Especie', '271 - Especie', '272 - Especie', '273 - Especie', '274 - Especie', '275 - Especie', '276 - Especie', '277 - Especie', '278 - Especie', '279 - Especie', '280 - Especie', '281 - Especie', '282 - Especie', '283 - Especie', '284 - Especie', '285 - Especie', '286 - Especie', '287 - Especie', '288 - Especie', '289 - Especie', '290 - Especie', '291 - Genero', '292 - Genero', '293 - Reino', '294 - Reino', '295 - Especie', '296 - Especie', '297 - Especie', '298 - Especie', '299 - Especie', '300 - Especie', '301 - Reino', '302 - Genero', '303 - Especie', '304 - Especie', '305 - Especie', '306 - Especie', '307 - Especie', '308 - Especie', '309 - Genero', '310 - Especie', '311 - Genero', '312 - Especie', '313 - Especie', '314 - Especie', '315 - Especie', '316 - Especie', '317 - Especie', '318 - Especie', '319 - Especie', '320 - Especie', '321 - Especie', '322 - Especie', '323 - Especie', '324 - Especie', '325 - Especie', '326 - Especie', '327 - Especie', '328 - Especie', '329 - Especie', '330 - Especie', '331 - Especie', '332 - Especie', '333 - Especie', '334 - Especie', '335 - Especie', '336 - Especie', '337 - Especie', '338 - Especie', '339 - Especie', '340 - Especie', '341 - Especie', '342 - Especie', '343 - Especie', '344 - Especie', '345 - Especie', '346 - Especie', '347 - Especie', '348 - Especie', '349 - Especie', '350 - Especie', '351 - Especie', '352 - Especie', '353 - Reino', '354 - Especie', '355 - Genero', '356 - Especie', '357 - Especie', '358 - Especie', '359 - Especie', '360 - Reino', '361 - Especie', '362 - Especie', '363 - Especie', '364 - Especie', '365 - Especie', '366 - Especie', '367 - Especie', '368 - Reino', '369 - Especie', '370 - Especie', '371 - Especie', '372 - Especie', '373 - Especie', '374 - Especie', '375 - Especie', '376 - Especie', '377 - Especie', '378 - Especie', '379 - Especie', '380 - Especie', '381 - Especie', '382 - Especie', '383 - Especie', '384 - Especie', '385 - Reino', '386 - Especie', '387 - Especie', '388 - Especie', '389 - Especie', '390 - Especie', '391 - Especie', '392 - Especie', '393 - Especie', '394 - Especie', '395 - Especie', '396 - Especie', '397 - Especie', '398 - Especie', '399 - Especie', '400 - Especie', '401 - Especie', '402 - Especie', '403 - Especie', '404 - Genero', '405 - Especie', '406 - Especie', '407 - Especie', '408 - Especie', '409 - Especie', '410 - Especie', '411 - Genero', '412 - Especie', '413 - Especie', '414 - Especie', '415 - Especie', '416 - Genero', '417 - Reino', '418 - Reino', '419 - Genero', '420 - Reino', '421 - Reino', '422 - Reino', '423 - Familia', '424 - Genero', '425 - Genero', '426 - Genero', '427 - Genero', '428 - Genero', '429 - Genero', '430 - Especie', '431 - Especie', '432 - Especie', '433 - Reino', '434 - Reino', '435 - Genero', '436 - Genero', '437 - Genero', '438 - Especie', '439 - Especie', '440 - Especie', '441 - Especie', '442 - Reino', '443 - Reino', '444 - Especie', '445 - Especie', '446 - Especie', '447 - Especie', '448 - Especie', '449 - Especie', '450 - Genero', '451 - Genero', '452 - Genero', '453 - Especie', '454 - Genero', '455 - Genero', '456 - Genero', '457 - Especie', '458 - Especie', '459 - Especie', '460 - Especie', '461 - Genero', '462 - Especie', '463 - Especie', '464 - Especie', '465 - Especie', '466 - Especie', '467 - Especie', '468 - Especie', '469 - Especie', '470 - Especie', '471 - Especie', '472 - Especie', '473 - Especie', '474 - Especie', '475 - Especie', '476 - Genero', '477 - Genero', '478 - Especie', '479 - Especie', '480 - Genero', '481 - Especie', '482 - Especie', '483 - Especie', '484 - Genero', '485 - Genero', '486 - Reino', '487 - Reino', '488 - Especie', '489 - Genero', '490 - Especie', '491 - Especie', '492 - Especie', '493 - Especie', '494 - Especie', '495 - Especie', '496 - Especie', '497 - Especie', '498 - Especie', '499 - Especie', '500 - Especie', '501 - Especie', '502 - Especie', '503 - Especie', '504 - Especie', '505 - Especie', '506 - Especie', '507 - Especie', '508 - Especie', '509 - Especie', '510 - Especie', '511 - Especie', '512 - Especie', '513 - Especie', '514 - Especie', '515 - Especie', '516 - Especie', '517 - Especie', '518 - Especie', '519 - Especie', '520 - Especie', '521 - Especie', '522 - Especie', '523 - Especie', '524 - Especie', '525 - Especie', '526 - Especie', '527 - Especie', '528 - Especie', '529 - Especie', '530 - Especie', '531 - Especie', '532 - Especie', '533 - Especie', '534 - Especie', '535 - Especie', '536 - Especie', '537 - Especie', '538 - Especie', '539 - Especie', '540 - Especie', '541 - Genero', '542 - Especie', '543 - Especie', '544 - Especie', '545 - Especie', '546 - Reino', '547 - Reino', '548 - Especie', '549 - Especie', '550 - Especie', '551 - Especie', '552 - Especie', '553 - Especie', '554 - Especie', '555 - Especie', '556 - Reino', '557 - Genero', '558 - Especie', '559 - Especie', '560 - Especie', '561 - Reino', '562 - Reino', '563 - Especie', '564 - Especie', '565 - Especie', '566 - Reino', '567 - Reino', '568 - Genero', '569 - Genero', '570 - Reino', '571 - Reino', '572 - Reino', '573 - Especie', '574 - Genero', '575 - Genero', '576 - Genero', '577 - Genero', '578 - Genero', '579 - Especie', '580 - Reino', '581 - Especie', '582 - Especie', '583 - Especie', '584 - Especie', '585 - Especie', '586 - Especie', '587 - Especie', '588 - Especie', '589 - Especie', '590 - Especie', '591 - Especie', '592 - Especie', '593 - Especie', '594 - Especie', '595 - Especie', '596 - Especie', '597 - Especie', '598 - Especie', '599 - Especie', '600 - Especie', '601 - Especie', '602 - Especie', '603 - Especie', '604 - Especie', '605 - Especie', '606 - Especie', '607 - Especie', '608 - Especie', '609 - Especie', '610 - Especie', '611 - Especie', '612 - Especie', '613 - Especie', '614 - Especie', '615 - Especie', '616 - Especie', '617 - Especie', '618 - Especie', '619 - Especie', '620 - Especie', '621 - Especie', '622 - Especie', '623 - Especie', '624 - Especie', '625 - Especie', '626 - Especie', '627 - Especie', '628 - Especie', '629 - Especie', '630 - Especie', '631 - Especie', '632 - Especie', '633 - Especie', '634 - Especie', '635 - Especie', '636 - Especie', '637 - Especie', '638 - Especie', '639 - Especie', '640 - Especie', '641 - Especie', '642 - Especie', '643 - Especie', '644 - Especie', '645 - Especie', '646 - Especie', '647 - Especie', '648 - Especie', '649 - Especie', '650 - Especie', '651 - Especie', '652 - Especie', '653 - Especie', '654 - Especie', '655 - Especie', '656 - Especie', '657 - Especie', '658 - Especie', '659 - Especie', '660 - Especie', '661 - Especie', '662 - Especie', '663 - Especie', '664 - Especie', '665 - Especie', '666 - Especie', '667 - Especie', '668 - Especie', '669 - Especie', '670 - Especie', '671 - Genero', '672 - Genero', '673 - Genero', '674 - Genero', '675 - Genero', '676 - Genero', '677 - Genero', '678 - Genero', '679 - Especie', '680 - Especie', '681 - Especie', '682 - Familia', '683 - Genero', '684 - Especie', '685 - Especie', '686 - Especie', '687 - Especie', '688 - Especie', '689 - Especie', '690 - Especie', '691 - Especie', '692 - Reino', '693 - Reino', '694 - Especie', '695 - Especie', '696 - Reino', '697 - Genero', '698 - Especie', '699 - Especie', '700 - Especie', '701 - Especie', '702 - Especie', '703 - Especie', '704 - Genero', '705 - Especie', '706 - Reino', '707 - Especie', '708 - Reino', '709 - Especie', '710 - Especie', '711 - Especie', '712 - Especie', '713 - Especie', '714 - Especie', '715 - Especie', '716 - Especie', '717 - Especie', '718 - Especie', '719 - Especie', '720 - Especie', '721 - Especie', '722 - Especie', '723 - Especie', '724 - Especie', '725 - Especie', '726 - Especie', '727 - Especie', '728 - Genero', '729 - Especie', '730 - Especie', '731 - Genero', '732 - Reino', '733 - Ordem', '734 - Ordem', '735 - Ordem', '736 - Especie', '737 - Especie', '738 - Especie', '739 - Especie', '740 - Especie']\n"
     ]
    }
   ],
   "source": [
    "#PARTE BRUNA\n",
    "print(biodiversidade.retornaNivelTaxonomicoCadaOcorrencia())\n",
    "#PARTE BRUNA"
   ]
  },
  {
   "cell_type": "code",
   "execution_count": 20,
   "metadata": {},
   "outputs": [
    {
     "name": "stdout",
     "output_type": "stream",
     "text": [
      "[['Amostra 49: Sem Informações: ', 'Espécie Ameaçada'], ['Amostra 53: Pseudotocinclus tietensis: ', 'Espécie Ameaçada'], ['Amostra 111: Taunayia bifasciata: ', 'Espécie Ameaçada'], ['Amostra 156: Conopophaga lineata: ', 'Espécie Ameaçada'], ['Amostra 214: Sem Informações: ', 'Espécie Ameaçada'], ['Amostra 245: Thamnophilus caerulescens: ', 'Espécie Ameaçada'], ['Amostra 246: Thamnophilus caerulescens: ', 'Espécie Ameaçada'], ['Amostra 250: Sem Informações: ', 'Espécie Ameaçada'], ['Amostra 291: Acianthera: ', 'Espécie Ameaçada'], ['Amostra 292: Dryadella: ', 'Espécie Ameaçada'], ['Amostra 317: Genidens barbus: ', 'Espécie Ameaçada'], ['Amostra 340: Genidens barbus: ', 'Espécie Ameaçada'], ['Amostra 369: Genidens barbus: ', 'Espécie Ameaçada'], ['Amostra 393: Genidens barbus: ', 'Espécie Ameaçada'], ['Amostra 409: Genidens barbus: ', 'Espécie Ameaçada'], ['Amostra 433: Sem Informações: ', 'Espécie Ameaçada'], ['Amostra 434: Sem Informações: ', 'Espécie Ameaçada'], ['Amostra 442: Sem Informações: ', 'Espécie Ameaçada'], ['Amostra 443: Sem Informações: ', 'Espécie Ameaçada'], ['Amostra 452: Maytenus: ', 'Espécie Ameaçada'], ['Amostra 454: Mollinedia: ', 'Espécie Ameaçada'], ['Amostra 455: Mollinedia: ', 'Espécie Ameaçada'], ['Amostra 456: Mollinedia: ', 'Espécie Ameaçada'], ['Amostra 461: Myrcia: ', 'Espécie Ameaçada'], ['Amostra 472: Ocotea catharinensis: ', 'Espécie Ameaçada'], ['Amostra 473: Ocotea catharinensis: ', 'Espécie Ameaçada'], ['Amostra 476: Ouratea: ', 'Espécie Ameaçada'], ['Amostra 477: Piper: ', 'Espécie Ameaçada'], ['Amostra 480: Psychotria: ', 'Espécie Ameaçada'], ['Amostra 482: Rudgea jasminoides: ', 'Espécie Ameaçada'], ['Amostra 483: Rudgea jasminoides: ', 'Espécie Ameaçada'], ['Amostra 484: Schefflera: ', 'Espécie Ameaçada'], ['Amostra 485: Schefflera: ', 'Espécie Ameaçada'], ['Amostra 546: Sem Informações: ', 'Espécie Ameaçada'], ['Amostra 547: Sem Informações: ', 'Espécie Ameaçada'], ['Amostra 566: Sem Informações: ', 'Espécie Ameaçada'], ['Amostra 567: Sem Informações: ', 'Espécie Ameaçada'], ['Amostra 569: Chrysophyllum: ', 'Espécie Ameaçada'], ['Amostra 580: Sem Informações: ', 'Espécie Ameaçada'], ['Amostra 645: Lytechinus variegatus: ', 'Espécie Ameaçada'], ['Amostra 671: Piper: ', 'Espécie Ameaçada'], ['Amostra 672: Piper: ', 'Espécie Ameaçada'], ['Amostra 673: Piper: ', 'Espécie Ameaçada'], ['Amostra 674: Piper: ', 'Espécie Ameaçada'], ['Amostra 675: Piper: ', 'Espécie Ameaçada'], ['Amostra 676: Piper: ', 'Espécie Ameaçada'], ['Amostra 677: Piper: ', 'Espécie Ameaçada'], ['Amostra 705: Luidia senegalensis: ', 'Espécie Ameaçada']]\n"
     ]
    }
   ],
   "source": [
    "#PARTE RAFAEL\n",
    "print(biodiversidade.retonaSeOcorrenciaExiste(\"Espécie Ameaçada\"))\n",
    "#PARTE RAFAEL"
   ]
  },
  {
   "cell_type": "code",
   "execution_count": 21,
   "metadata": {},
   "outputs": [
    {
     "data": {
      "application/vnd.jupyter.widget-view+json": {
       "model_id": "1e988924cae348b5af12d92872cabb9a",
       "version_major": 2,
       "version_minor": 0
      },
      "text/plain": [
       "Map(basemap={'url': 'https://{s}.tile.openstreetmap.org/{z}/{x}/{y}.png', 'max_zoom': 19, 'attribution': 'Map …"
      ]
     },
     "metadata": {},
     "output_type": "display_data"
    }
   ],
   "source": [
    "#PARTE RAFAEL + DANIEL\n",
    "map = biodiversidade.metodoPlotMap()\n",
    "map\n",
    "#PARTE RAFAEL + DANIEL"
   ]
  },
  {
   "cell_type": "code",
   "execution_count": null,
   "metadata": {},
   "outputs": [],
   "source": []
  }
 ],
 "metadata": {
  "kernelspec": {
   "display_name": "Python [conda env:ambDanielFiep] *",
   "language": "python",
   "name": "conda-env-ambDanielFiep-py"
  },
  "language_info": {
   "codemirror_mode": {
    "name": "ipython",
    "version": 3
   },
   "file_extension": ".py",
   "mimetype": "text/x-python",
   "name": "python",
   "nbconvert_exporter": "python",
   "pygments_lexer": "ipython3",
   "version": "3.7.4"
  }
 },
 "nbformat": 4,
 "nbformat_minor": 2
}
