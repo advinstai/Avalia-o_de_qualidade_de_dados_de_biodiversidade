{
 "cells": [
  {
   "cell_type": "code",
   "execution_count": 4,
   "metadata": {},
   "outputs": [
    {
     "ename": "IndentationError",
     "evalue": "expected an indented block (<ipython-input-4-fc629a832e15>, line 49)",
     "output_type": "error",
     "traceback": [
      "\u001b[0;36m  File \u001b[0;32m\"<ipython-input-4-fc629a832e15>\"\u001b[0;36m, line \u001b[0;32m49\u001b[0m\n\u001b[0;31m    def retonaSeOcorrenciaExiste():\u001b[0m\n\u001b[0m      ^\u001b[0m\n\u001b[0;31mIndentationError\u001b[0m\u001b[0;31m:\u001b[0m expected an indented block\n"
     ]
    }
   ],
   "source": [
    "import numpy as np\n",
    "import pandas as pd \n",
    "\n",
    "class desafioBiodiversidade():\n",
    "\n",
    "    def __init__(self,filePath):\n",
    "        try:\n",
    "            f = open(filePath,\"r\")\n",
    "            data = f.readlines()\n",
    "            self.data = list(map(lambda line: line.split(\";\"), data))\n",
    "            f.close()\n",
    "        except:\n",
    "            print(\"Error: cannot open file.\")\n",
    "            data = None  \n",
    "    \n",
    "    #1\n",
    "    #Para cada coluna identique a quantidade de linhas com dados faltantes (em alguns casos, \n",
    "    #o dado faltante é uma string vazia, em outros casos é uma string contendo algum valor do \n",
    "    #tipo: \"sem informação\"). \n",
    "    #Faça um método que retorna a média de dados faltantes por coluna\n",
    "    def retornaMediaDadosFaltantesPorColuna(self):\n",
    "        data = self.data\n",
    "        nlines = len(data)-1\n",
    "        nblank = [0]*len(data[0])\n",
    "        \n",
    "        for line in data:\n",
    "            for ind,column in enumerate(line):\n",
    "                if column == \"Sem Informações\" or column == \"\":\n",
    "                    nblank[ind]+=1\n",
    "        \n",
    "        nblank = [np.round((x/nlines)*100,2) for x in nblank]\n",
    "        \n",
    "        dict = {'Titulo': data[0], 'Value': nblank}\n",
    "        df = pd.DataFrame(dict)\n",
    "        print(df.to_string(index=False))\n",
    "        \n",
    "        \n",
    "    #2\n",
    "    #Para cada item identifique até qual nível taxônomico a ocorrência foi identificada.\n",
    "    #Seis campos definem a espécie: Filo;Classe;Ordem;Familia;Genero;Especie do mais genérico \n",
    "    #(Filo) para o mais específico (Especie), é comum que em alguns casos, o preenchimento pare em \n",
    "    #família ou genêro por exemplo.\n",
    "    def retornaNivelTaxonomicoCadaOcorrencia():\n",
    "    \n",
    "    \n",
    "    #3\n",
    "    #Monte filtros de ocorrências por estados, nome de espécie (nome exato ou parte do nome) e \n",
    "    #categoria de ameaça, e outros filtros que julgar relevante.\n",
    "    def retonaSeOcorrenciaExiste():\n",
    "        \n",
    "        \n",
    "    #4\n",
    "    #Crie uma funcionalidade para avaliar se a informação de longitude e latitude \n",
    "    #corresponde a informação presente na localização, para isso você pode utilizar uma \n",
    "    #biblioteca de consulta reversa de lat/log como por exemplo o \n",
    "    #https://opencagedata.com/tutorials/geocode-in-python\n",
    "    def metodoPlotMap():\n",
    "        \n",
    "\n",
    "filePath = \"portalbio_export_16-10-2019-14-39-54.csv\"\n",
    "biodiversidade = desafioBiodiversidade(filePath)\n",
    "biodiversidade.retornaMediaDadosFaltantesPorColuna()"
   ]
  },
  {
   "cell_type": "code",
   "execution_count": null,
   "metadata": {},
   "outputs": [],
   "source": []
  }
 ],
 "metadata": {
  "kernelspec": {
   "display_name": "Python 3",
   "language": "python",
   "name": "python3"
  },
  "language_info": {
   "codemirror_mode": {
    "name": "ipython",
    "version": 3
   },
   "file_extension": ".py",
   "mimetype": "text/x-python",
   "name": "python",
   "nbconvert_exporter": "python",
   "pygments_lexer": "ipython3",
   "version": "3.7.4"
  }
 },
 "nbformat": 4,
 "nbformat_minor": 2
}
